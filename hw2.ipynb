{
 "metadata": {
  "language_info": {
   "codemirror_mode": {
    "name": "ipython",
    "version": 3
   },
   "file_extension": ".py",
   "mimetype": "text/x-python",
   "name": "python",
   "nbconvert_exporter": "python",
   "pygments_lexer": "ipython3",
   "version": "3.9.0-final"
  },
  "orig_nbformat": 2,
  "kernelspec": {
   "name": "python3",
   "display_name": "Python 3.9.0 64-bit",
   "metadata": {
    "interpreter": {
     "hash": "63fd5069d213b44bf678585dea6b12cceca9941eaf7f819626cde1f2670de90d"
    }
   }
  }
 },
 "nbformat": 4,
 "nbformat_minor": 2,
 "cells": [
  {
   "cell_type": "code",
   "execution_count": 2,
   "metadata": {},
   "outputs": [
    {
     "output_type": "stream",
     "name": "stdout",
     "text": [
      "[{'name': 'Adem', 'surname': 'Kurtipek', 'age': 36, 'birthYear': 1984}]\n{'name': 'Adem', 'surname': 'Kurtipek', 'age': 36, 'birthYear': 1984}\nYou can go out to the street\n"
     ]
    }
   ],
   "source": [
    "#Homework_2\n",
    "\n",
    "Name= str(input(\"Type your name:\"))\n",
    "Surname=str(input(\"Type your surname:\"))\n",
    "Age= int(input(\"Type your age:\"))\n",
    "BirthYear= int(input(\"Type your year of birth:\"))\n",
    "\n",
    "\n",
    "mylist = []\n",
    "mylist.append({\n",
    "    'name': Name,\n",
    "    'surname': Surname,\n",
    "    'age': Age,\n",
    "    'birthYear': BirthYear\n",
    "    })\n",
    "print(mylist)\n",
    "\n",
    "for i in range(len(mylist)):\n",
    "    print(mylist[i])\n",
    "\n",
    "age = mylist[i]['age']\n",
    "\n",
    "if age < 18:\n",
    "    print(\"You can't go out because it's to dangerous\")\n",
    "else:\n",
    "    print(\"You can go out to the street\")\n",
    "\n"
   ]
  }
 ]
}