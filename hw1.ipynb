{
 "metadata": {
  "language_info": {
   "codemirror_mode": {
    "name": "ipython",
    "version": 3
   },
   "file_extension": ".py",
   "mimetype": "text/x-python",
   "name": "python",
   "nbconvert_exporter": "python",
   "pygments_lexer": "ipython3",
   "version": "3.9.0-final"
  },
  "orig_nbformat": 2,
  "kernelspec": {
   "name": "python3",
   "display_name": "Python 3.9.0 64-bit",
   "metadata": {
    "interpreter": {
     "hash": "63fd5069d213b44bf678585dea6b12cceca9941eaf7f819626cde1f2670de90d"
    }
   }
  }
 },
 "nbformat": 4,
 "nbformat_minor": 2,
 "cells": [
  {
   "cell_type": "code",
   "execution_count": 1,
   "metadata": {},
   "outputs": [
    {
     "output_type": "stream",
     "name": "stdout",
     "text": [
      "username: gencharitaci type <class 'str'>\nname: Adem type <class 'str'>\ncity: Ankara type <class 'str'>\nage: 36 type <class 'int'>\nscore: 83.75 type <class 'float'>\n"
     ]
    }
   ],
   "source": [
    "# Homework_1 \n",
    "username=str(input(\"username: \"))\n",
    "name=str(input(\"name: \"))\n",
    "city=str(input(\"city: \"))\n",
    "age=int(input(\"age: \"))\n",
    "score=float((input(\"score: \")))\n",
    "\n",
    "print(\"username: {} type {}\".format(username, type(username)))\n",
    "print(\"name: {} type {}\".format(name, type(name)))\n",
    "print(\"city: {} type {}\".format(city, type(city)))\n",
    "print(\"age: {} type {}\".format(age, type(age)))\n",
    "print(\"score: {} type {}\".format(score, type(score)))"
   ]
  },
  {
   "cell_type": "code",
   "execution_count": null,
   "metadata": {},
   "outputs": [],
   "source": []
  }
 ]
}